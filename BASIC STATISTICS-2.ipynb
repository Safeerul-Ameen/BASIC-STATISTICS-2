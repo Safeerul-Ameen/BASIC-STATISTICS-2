{
 "cells": [
  {
   "cell_type": "markdown",
   "id": "14ca6408",
   "metadata": {},
   "source": [
    "# Estimation And Confidence Intervals"
   ]
  },
  {
   "cell_type": "markdown",
   "id": "965cdeec",
   "metadata": {},
   "source": [
    "A total of 15 print-heads were randomly selected and tested until failure. The durability of each print-head (in millions of characters) was recorded as follows:\n",
    "1.13, 1.55, 1.43, 0.92, 1.25, 1.36, 1.32, 0.85, 1.07, 1.48, 1.20, 1.33, 1.18, 1.22, 1.29\n",
    "## A. Build 99% Confidence Interval Using Sample Standard Deviation"
   ]
  },
  {
   "cell_type": "code",
   "execution_count": 18,
   "id": "d9c2b5c6",
   "metadata": {},
   "outputs": [],
   "source": [
    "# import libraries\n",
    "import pandas as pd\n",
    "import numpy as np\n",
    "import scipy.stats as stats\n",
    "import math\n",
    "import warnings\n",
    "warnings.filterwarnings('ignore')"
   ]
  },
  {
   "cell_type": "code",
   "execution_count": 24,
   "id": "9b3be8d4",
   "metadata": {},
   "outputs": [
    {
     "data": {
      "text/plain": [
       "(1.2386666666666666, 0.19316412956959936)"
      ]
     },
     "execution_count": 24,
     "metadata": {},
     "output_type": "execute_result"
    }
   ],
   "source": [
    "# Durability data in millions of characters\n",
    "data = [1.13, 1.55, 1.43, 0.92, 1.25, 1.36, 1.32, 0.85, 1.07, 1.48, 1.20, 1.33, 1.18, 1.22, 1.29]\n",
    "# Step 1: Calculate the sample mean\n",
    "sample_mean = np.mean(data)\n",
    "# Step 2: Calculate the sample standard deviation. ddof=1 tells the function to divide by n−1 instead of 𝑛.\n",
    "sample_std = np.std(data,ddof=1)\n",
    "sample_mean,sample_std"
   ]
  },
  {
   "cell_type": "markdown",
   "id": "bfe463cf",
   "metadata": {},
   "source": [
    "**Since the sample size is small (n = 15) and the population standard deviation is unknown, we'll use the t-distribution. The degrees of freedom (df) for this distribution is 𝑛−1.**"
   ]
  },
  {
   "cell_type": "code",
   "execution_count": 25,
   "id": "55cd3e05",
   "metadata": {},
   "outputs": [
    {
     "data": {
      "text/plain": [
       "2.97684273411266"
      ]
     },
     "execution_count": 25,
     "metadata": {},
     "output_type": "execute_result"
    }
   ],
   "source": [
    "# Step 3: Determine the critical value from the t-distribution for 99% confidence level\n",
    "n = len(data)\n",
    "df = n - 1\n",
    "confidence_level = 0.99\n",
    "alpha = 1 - confidence_level\n",
    "t_critical = stats.t.ppf(1 - alpha/2, df)\n",
    "t_critical"
   ]
  },
  {
   "cell_type": "code",
   "execution_count": 28,
   "id": "9bd7e4fc",
   "metadata": {},
   "outputs": [
    {
     "data": {
      "text/plain": [
       "0.1484693282152996"
      ]
     },
     "execution_count": 28,
     "metadata": {},
     "output_type": "execute_result"
    }
   ],
   "source": [
    "# Step 4: Find Margin of error(ME)\n",
    "ME=t_critical*(sample_std/np.sqrt(n))\n",
    "ME"
   ]
  },
  {
   "cell_type": "code",
   "execution_count": 29,
   "id": "10ed6753",
   "metadata": {},
   "outputs": [
    {
     "data": {
      "text/plain": [
       "(1.090197338451367, 1.3871359948819662)"
      ]
     },
     "execution_count": 29,
     "metadata": {},
     "output_type": "execute_result"
    }
   ],
   "source": [
    "# 99% Confidence Interval for the Mean Durability (x_bar-ME,x_bar+ME)\n",
    "# Step 5: Construct the confidence interval\n",
    "confidence_interval = (sample_mean - ME, sample_mean + ME)\n",
    "confidence_interval"
   ]
  },
  {
   "cell_type": "markdown",
   "id": "5753b45d",
   "metadata": {},
   "source": [
    "### Interpretation:\n",
    "**We are 99% confident that the true mean durability of the print-heads lies between approximately 1.09 and 1.39 million characters before failure.**"
   ]
  },
  {
   "cell_type": "markdown",
   "id": "72f9cb08",
   "metadata": {},
   "source": [
    "* The t-distribution was used because the sample size is small (n=15), and the population standard deviation is unknown.\n",
    "* This distribution is more spread out than the normal distribution, which accounts for the added uncertainty in estimating the population standard deviation from a small sample."
   ]
  },
  {
   "cell_type": "markdown",
   "id": "55d2d9ce",
   "metadata": {},
   "source": [
    "## B. Build 99% Confidence Interval Using Known Population Standard Deviation\n",
    "If it were known that the population standard deviation is 0.2 million characters, construct a 99% confidence interval for the mean number of characters printed before failure."
   ]
  },
  {
   "cell_type": "markdown",
   "id": "545a5bbc",
   "metadata": {},
   "source": [
    "**When the population standard deviation (σ) is known, we can use the z-distribution (normal distribution) instead of the t-distribution to construct the confidence interval.**"
   ]
  },
  {
   "cell_type": "code",
   "execution_count": 32,
   "id": "e7ce9c7c",
   "metadata": {},
   "outputs": [
    {
     "data": {
      "text/plain": [
       "2.5758293035489004"
      ]
     },
     "execution_count": 32,
     "metadata": {},
     "output_type": "execute_result"
    }
   ],
   "source": [
    "# Given data\n",
    "population_std = 0.2  # million characters\n",
    "sample_mean  # previously calculated sample mean\n",
    "n = 15  # sample size\n",
    "# Determine the critical value from the z-distribution for 99% confidence level\n",
    "confidence_level = 0.99\n",
    "alpha = 1 - confidence_level\n",
    "z_critical = stats.norm.ppf(1 - alpha/2)\n",
    "z_critical"
   ]
  },
  {
   "cell_type": "code",
   "execution_count": 33,
   "id": "e07223b4",
   "metadata": {},
   "outputs": [
    {
     "data": {
      "text/plain": [
       "0.13301525327090588"
      ]
     },
     "execution_count": 33,
     "metadata": {},
     "output_type": "execute_result"
    }
   ],
   "source": [
    "# Find Margin of error(ME)\n",
    "ME=z_critical*(population_std/np.sqrt(n))\n",
    "ME"
   ]
  },
  {
   "cell_type": "code",
   "execution_count": 34,
   "id": "177e659d",
   "metadata": {},
   "outputs": [
    {
     "data": {
      "text/plain": [
       "(1.1056514133957607, 1.3716819199375725)"
      ]
     },
     "execution_count": 34,
     "metadata": {},
     "output_type": "execute_result"
    }
   ],
   "source": [
    "# Construct the confidence interval\n",
    "confidence_interval = (sample_mean - ME, sample_mean + ME)\n",
    "confidence_interval"
   ]
  },
  {
   "cell_type": "markdown",
   "id": "bf549f23",
   "metadata": {},
   "source": [
    "### Interpretation:\n",
    "**We are 99% confident that the true mean durability of the print-heads lies between approximately 1.106 and 1.372 million characters before failure, using the known population standard deviation.**"
   ]
  }
 ],
 "metadata": {
  "kernelspec": {
   "display_name": "Python 3 (ipykernel)",
   "language": "python",
   "name": "python3"
  },
  "language_info": {
   "codemirror_mode": {
    "name": "ipython",
    "version": 3
   },
   "file_extension": ".py",
   "mimetype": "text/x-python",
   "name": "python",
   "nbconvert_exporter": "python",
   "pygments_lexer": "ipython3",
   "version": "3.11.7"
  }
 },
 "nbformat": 4,
 "nbformat_minor": 5
}
